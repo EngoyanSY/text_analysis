{
 "cells": [
  {
   "cell_type": "markdown",
   "metadata": {},
   "source": [
    "<h1>А-02-21 Енгоян Сергей ЛР 2</h1>"
   ]
  },
  {
   "cell_type": "code",
   "execution_count": 44,
   "metadata": {},
   "outputs": [],
   "source": [
    "from sklearn.neighbors import KNeighborsClassifier\n",
    "from sklearn.datasets import fetch_20newsgroups\n",
    "from sklearn.feature_extraction.text import CountVectorizer, TfidfTransformer \n",
    "import numpy as np"
   ]
  },
  {
   "cell_type": "code",
   "execution_count": 45,
   "metadata": {},
   "outputs": [],
   "source": [
    "categories = ['comp.windows.x', 'rec.sport.baseball', 'rec.sport.hockey']\n",
    "remove = ('headers', 'footers', 'quotes')\n",
    "\n",
    "twenty_train = fetch_20newsgroups(subset='train', shuffle=True, random_state=28, categories=categories, remove=remove)\n",
    "twenty_test = fetch_20newsgroups(subset='test', shuffle=True, random_state=28, categories=categories, remove=remove)"
   ]
  },
  {
   "cell_type": "markdown",
   "metadata": {},
   "source": [
    "Выведем по одному тексту каждой их 3 категорий"
   ]
  },
  {
   "cell_type": "code",
   "execution_count": 46,
   "metadata": {},
   "outputs": [
    {
     "name": "stdout",
     "output_type": "stream",
     "text": [
      "comp.windows.x \n",
      "I think the original post was searching for existing implementations of\n",
      "f.i. Gouroud-shading of triangles. This is fairly complex to do with plain\n",
      "X. Simpler shading models are implemented already, f.i. in x3d (ask archie\n",
      "where to get the latest version).\n",
      "For Gouroud, a fast implementation will be possible utilizing some extension\n",
      "only, either MIT-SHM to do the shade in an image and fast update the window\n",
      "with it, or PEX/OpenGL which should be able to shade themselves. The portable\n",
      "'vanilla X' way would be to shade in a normal XImage and use XPutImage(),\n",
      "what would be good enough to do static things as f.i. fractal landscapes\n",
      "or such stuff.\n",
      "\n",
      "To speak about POVRay, the X previewer that comes with the original source\n",
      "package is not that good, especially in speed, protocol-friendlyness and\n",
      "ICCCM compliance. Have a look on x256q, my own preview code. It is on\n",
      "\n",
      "141.76.1.11:pub/gfx/ray/misc/x256q/\n",
      "\n",
      "The README states the points where it is better than xwindow.c from\n",
      "POVRay 1.0\n",
      "\n"
     ]
    }
   ],
   "source": [
    "print(twenty_train.target_names[twenty_train.target[5]], twenty_train.data[5])"
   ]
  },
  {
   "cell_type": "code",
   "execution_count": 47,
   "metadata": {},
   "outputs": [
    {
     "name": "stdout",
     "output_type": "stream",
     "text": [
      "rec.sport.hockey \n",
      "\n",
      "\n",
      "Well, it seems that the Habs have been much talked-about of late, so here's my\n",
      "$0.02.  These guys have absolutely no concept of how to play in front of the\n",
      "damn net!!!  Watch them in the offensive zone, especially on the powerplay. \n",
      "Damphousse or Lebeau will skate all over the bloody zone, maybe pass to the\n",
      "point, get it back, skate some more, pass it around....BUT WHERE'S THE SHOT??!\n",
      "Answer: the shot is totally useless because they lack a forward who stands\n",
      "in front of the net a la` Neely, Shanahan, Tocchet, etc etc.  Too bad \n",
      "Demers won't put Dipietro or LeClair on the powerplay more often.  Dammit,\n",
      "even Ewen would at least cause some disruptions.  Montreal desperately needs\n",
      "a power forward with some talent, IMO.\n",
      "\n",
      "Then watch them in their own zone. Patrick Roy is screened on everything. Say\n",
      "what you want about his performance; IMNSHO he cannot stop what he cannot see. \n",
      "And Montreal's defence does a miserable job of clearing the front of the net. \n",
      "Last night against Washington Roy played a *great* game.  The first goal came\n",
      "on the most ridiculous goalmouth scramble I've seen in a long time, and he\n",
      "didn't have a hope in hell of stopping the shot.  The second goal came on a\n",
      "deflection of a shot he only partially saw anyway.  Pathetic defence.  The\n",
      "third goal was EN.\n",
      "\n",
      "No wonder he gets pissed off at his defencemen.\n",
      "\n"
     ]
    }
   ],
   "source": [
    "print(twenty_train.target_names[twenty_train.target[1]], twenty_train.data[1])"
   ]
  },
  {
   "cell_type": "code",
   "execution_count": 48,
   "metadata": {},
   "outputs": [
    {
     "name": "stdout",
     "output_type": "stream",
     "text": [
      "rec.sport.baseball Amazingly, pitchers, no matter how good their mechanics, are\n",
      "not machines.  Cy Young winners don't pitch in a vaccuum, unaware\n",
      "of how their offenses are doing.\n",
      "\n",
      "\tThe Braves' pitching staff is already showing signs of\n",
      "cracking under the strain of knowing they're not going to get many\n",
      "(if any) runs.  Unfortunately, the Braves' pitchers were so bad for so\n",
      "long that the organization put so much stress (and I mean *stress*)\n",
      "on pitching that they completely ignored hitting.\n",
      "\n",
      "\tThe Braves right now are looking woefully similar to the Braves of\n",
      "the mid-seventies.  Heaven help us.\n",
      " \n"
     ]
    }
   ],
   "source": [
    "print(twenty_train.target_names[twenty_train.target[13]], twenty_train.data[13])"
   ]
  },
  {
   "cell_type": "markdown",
   "metadata": {},
   "source": [
    "<h>Стемминг</h>"
   ]
  },
  {
   "cell_type": "code",
   "execution_count": 49,
   "metadata": {},
   "outputs": [
    {
     "name": "stderr",
     "output_type": "stream",
     "text": [
      "[nltk_data] Downloading package punkt_tab to\n",
      "[nltk_data]     C:\\Users\\User\\AppData\\Roaming\\nltk_data...\n",
      "[nltk_data]   Package punkt_tab is already up-to-date!\n"
     ]
    },
    {
     "data": {
      "text/plain": [
       "True"
      ]
     },
     "execution_count": 49,
     "metadata": {},
     "output_type": "execute_result"
    }
   ],
   "source": [
    "from nltk.stem import *\n",
    "from nltk import word_tokenize\n",
    "import nltk\n",
    "nltk.download('punkt_tab')"
   ]
  },
  {
   "cell_type": "code",
   "execution_count": 50,
   "metadata": {},
   "outputs": [],
   "source": [
    "porter_stemmer = PorterStemmer()\n",
    "stem_train = []\n",
    "stem_test = []\n",
    "for text in twenty_train.data:\n",
    "    nltk_tokens = word_tokenize(text)\n",
    "    line = ''\n",
    "    for word in nltk_tokens:\n",
    "        line += ' ' + porter_stemmer.stem(word)\n",
    "    stem_train.append(line)\n",
    "\n",
    "for text in twenty_test.data:\n",
    "    nltk_tokens = word_tokenize(text)\n",
    "    line = ''\n",
    "    for word in nltk_tokens:\n",
    "        line += ' ' + porter_stemmer.stem(word)\n",
    "    stem_test.append(line)"
   ]
  },
  {
   "cell_type": "code",
   "execution_count": 51,
   "metadata": {},
   "outputs": [
    {
     "name": "stdout",
     "output_type": "stream",
     "text": [
      "Ok, it seems that everyone else in canada was treated to the \n",
      "REAL ABC telecast while only the people on ROGERS TV in Surrey BC \n",
      "were treated to two channels with Don \"I stink as a Commentator\" Whitman\n",
      "doing the play-by-play.\n",
      " ok , it seem that everyon els in canada wa treat to the real abc telecast while onli the peopl on roger tv in surrey bc were treat to two channel with don `` i stink as a comment '' whitman do the play-by-play .\n"
     ]
    }
   ],
   "source": [
    "print(twenty_train.data[0])\n",
    "print(stem_train[0])"
   ]
  },
  {
   "cell_type": "markdown",
   "metadata": {},
   "source": [
    "<h>Векторизация</h>"
   ]
  },
  {
   "cell_type": "code",
   "execution_count": 52,
   "metadata": {},
   "outputs": [],
   "source": [
    "vect = CountVectorizer(max_features=10000, stop_words='english', max_df=1, min_df=1)\n",
    "\n",
    "train_data = vect.fit_transform(twenty_train.data)\n",
    "test_data = vect.transform(twenty_test.data)"
   ]
  },
  {
   "cell_type": "code",
   "execution_count": 97,
   "metadata": {},
   "outputs": [
    {
     "name": "stdout",
     "output_type": "stream",
     "text": [
      "('plplot', np.int64(25))\n",
      "('xclrp', np.int64(21))\n",
      "('cnt', np.int64(19))\n",
      "('tul', np.int64(17))\n",
      "('gw', np.int64(15))\n",
      "('keyword', np.int64(15))\n",
      "('okc', np.int64(14))\n",
      "('toval', np.int64(14))\n",
      "('vga', np.int64(13))\n",
      "('graphic_display', np.int64(12))\n",
      "('sele_pntr', np.int64(12))\n",
      "('senator', np.int64(12))\n",
      "('ik', np.int64(11))\n",
      "('svr3', np.int64(11))\n",
      "('wchar_t', np.int64(11))\n",
      "('whi', np.int64(11))\n",
      "('xrmvalueptr', np.int64(11))\n",
      "('067', np.int64(10))\n",
      "('cle', np.int64(10))\n",
      "('kan', np.int64(10))\n"
     ]
    }
   ],
   "source": [
    "x = list(zip(vect.get_feature_names_out(), np.ravel(train_data.sum(axis=0))))\n",
    "def SortbyTF(inputStr):\n",
    "    return inputStr[1]\n",
    "x.sort(key=SortbyTF, reverse = True)\n",
    "\n",
    "for _ in x[:20]:\n",
    "    print(_)"
   ]
  },
  {
   "cell_type": "code",
   "execution_count": 108,
   "metadata": {},
   "outputs": [
    {
     "name": "stdout",
     "output_type": "stream",
     "text": [
      "\n",
      "Частые термины для категории: comp.windows.x\n",
      "plplot: 25\n",
      "xclrp: 21\n",
      "cnt: 19\n",
      "gw: 15\n",
      "toval: 14\n",
      "vga: 13\n",
      "graphic_display: 12\n",
      "sele_pntr: 12\n",
      "ik: 11\n",
      "svr3: 11\n",
      "wchar_t: 11\n",
      "xrmvalueptr: 11\n",
      "ptr_ident: 10\n",
      "xclrs: 10\n",
      "xsizehints: 10\n",
      "tcpview: 9\n",
      "xsi: 9\n",
      "closure: 8\n",
      "destructor: 8\n",
      "num_args: 8\n",
      "\n",
      "Частые термины для категории: rec.sport.baseball\n",
      "whi: 11\n",
      "067: 10\n",
      "cle: 10\n",
      "kan: 10\n",
      "bal: 9\n",
      "flo: 9\n",
      "nym: 9\n",
      "schuerholz: 9\n",
      "snd: 9\n",
      "pugh: 8\n",
      "dcon: 7\n",
      "obprediction: 7\n",
      "definately: 6\n",
      "dops: 6\n",
      "jm: 6\n",
      "lefthanded: 6\n",
      "spanish: 6\n",
      "584: 5\n",
      "647: 5\n",
      "baldschun: 5\n",
      "\n",
      "Частые термины для категории: rec.sport.hockey\n",
      "tul: 17\n",
      "keyword: 15\n",
      "okc: 14\n",
      "senator: 12\n",
      "wch: 10\n",
      "cyt: 9\n",
      "sylvain: 9\n",
      "hl: 8\n",
      "ahlund: 7\n",
      "committee: 7\n",
      "compensation: 7\n",
      "czechoslovakia: 7\n",
      "ftw: 7\n",
      "korpisalo: 7\n",
      "ra: 7\n",
      "sailynoja: 7\n",
      "aslin: 6\n",
      "boe: 6\n",
      "cze: 6\n",
      "keijo: 6\n"
     ]
    }
   ],
   "source": [
    "category_names = twenty_train.target_names\n",
    "category_indices = twenty_train.target\n",
    "\n",
    "for cat_idx, cat_name in enumerate(twenty_train.target_names):\n",
    "    print(f\"\\nЧастые термины для категории: {cat_name}\")\n",
    "\n",
    "    cat_mask = (category_indices == cat_idx)\n",
    "    cat_data = train_data[cat_mask]\n",
    "    \n",
    "    word_frequencies = np.ravel(cat_data.sum(axis=0))\n",
    "    word_freq_pairs = list(zip(vect.get_feature_names_out(), word_frequencies))\n",
    "    word_freq_pairs.sort(key=SortbyTF, reverse=True)\n",
    "\n",
    "    for word, freq in word_freq_pairs[:20]:\n",
    "        print(f\"{word}: {freq}\")\n",
    "    "
   ]
  },
  {
   "cell_type": "code",
   "execution_count": 94,
   "metadata": {},
   "outputs": [],
   "source": [
    "def jaccard_similarity(list1, list2):\n",
    "    intersection = len(list(set(list1).intersection(list2)))\n",
    "    union = (len(set(list1)) + len(set(list2))) - intersection\n",
    "    return float(intersection) / union"
   ]
  },
  {
   "cell_type": "code",
   "execution_count": 69,
   "metadata": {},
   "outputs": [
    {
     "name": "stdout",
     "output_type": "stream",
     "text": [
      "comp.windows.x comp.windows.x\n"
     ]
    }
   ],
   "source": [
    "print(twenty_train.target_names[twenty_train.target[5]], twenty_train.target_names[twenty_train.target[16]])"
   ]
  },
  {
   "cell_type": "code",
   "execution_count": 68,
   "metadata": {},
   "outputs": [
    {
     "data": {
      "text/plain": [
       "0.056338028169014086"
      ]
     },
     "execution_count": 68,
     "metadata": {},
     "output_type": "execute_result"
    }
   ],
   "source": [
    "jaccard_similarity()"
   ]
  }
 ],
 "metadata": {
  "kernelspec": {
   "display_name": "Python 3",
   "language": "python",
   "name": "python3"
  },
  "language_info": {
   "codemirror_mode": {
    "name": "ipython",
    "version": 3
   },
   "file_extension": ".py",
   "mimetype": "text/x-python",
   "name": "python",
   "nbconvert_exporter": "python",
   "pygments_lexer": "ipython3",
   "version": "3.9.13"
  }
 },
 "nbformat": 4,
 "nbformat_minor": 2
}
