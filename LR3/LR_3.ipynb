{
 "cells": [
  {
   "cell_type": "markdown",
   "metadata": {},
   "source": [
    "<h1>А-02-21 Енгоян Сергей ЛР 3</h1>"
   ]
  },
  {
   "cell_type": "code",
   "execution_count": 30,
   "metadata": {},
   "outputs": [],
   "source": [
    "from sklearn.ensemble import RandomForestClassifier\n",
    "from sklearn.naive_bayes import MultinomialNB\n",
    "from sklearn.datasets import fetch_20newsgroups\n",
    "from sklearn.feature_extraction.text import CountVectorizer, TfidfTransformer \n",
    "import numpy as np\n",
    "from sklearn.pipeline import Pipeline\n",
    "from sklearn.model_selection import GridSearchCV"
   ]
  },
  {
   "cell_type": "code",
   "execution_count": 2,
   "metadata": {},
   "outputs": [],
   "source": [
    "categories = ['comp.windows.x', 'rec.sport.baseball', 'rec.sport.hockey']\n",
    "remove = ('headers', 'footers', 'quotes')\n",
    "\n",
    "twenty_train = fetch_20newsgroups(subset='train', shuffle=True, random_state=28, categories=categories, remove=remove)\n",
    "twenty_test = fetch_20newsgroups(subset='test', shuffle=True, random_state=28, categories=categories, remove=remove)"
   ]
  },
  {
   "cell_type": "code",
   "execution_count": 34,
   "metadata": {},
   "outputs": [],
   "source": [
    "text_clf_RF = Pipeline([('vect', CountVectorizer()),\n",
    "                    ('tfidf', TfidfTransformer()),\n",
    "                    ('clf', RandomForestClassifier ()),]) \n",
    "\n",
    "text_clf_MNB = Pipeline([('vect', CountVectorizer()),\n",
    "                    ('tfidf', TfidfTransformer()),\n",
    "                    ('clf', MultinomialNB()),])\n",
    "\n",
    "RF_parameters = {'vect__max_features': (100,1000,5000,10000),\n",
    "              'vect__stop_words': ('english', None),\n",
    "              'tfidf__use_idf': (True, False),              \n",
    "              'clf__n_estimators': (5, 30, 100),\n",
    "              'clf__criterion': ('gini', 'entropy'),\n",
    "              'clf__max_depth': (5, 15, 50),\n",
    "              }\n",
    "\n",
    "MNB_parameters = {'vect__max_features': (100,1000,5000,10000),\n",
    "              'vect__stop_words': ('english', None),\n",
    "              'tfidf__use_idf': (True, False),\n",
    "              'clf__alpha': (0.1, 1.2),\n",
    "              }\n",
    "\n",
    "gs_RF = GridSearchCV(text_clf_RF, RF_parameters, n_jobs=-1, cv=3, scoring = 'f1_weighted')\n",
    "gs_MNB = GridSearchCV(text_clf_MNB, MNB_parameters, n_jobs=-1, cv=3, scoring = 'f1_weighted')\n",
    "\n",
    "gs_RF = gs_RF.fit(twenty_train.data, twenty_train.target)\n",
    "gs_MNG = gs_MNB.fit(twenty_train.data, twenty_train.target)"
   ]
  },
  {
   "cell_type": "code",
   "execution_count": 36,
   "metadata": {},
   "outputs": [
    {
     "name": "stdout",
     "output_type": "stream",
     "text": [
      "Random Forest:\n",
      "{'clf__criterion': 'entropy', 'clf__max_depth': 15, 'clf__n_estimators': 100, 'tfidf__use_idf': True, 'vect__max_features': 10000, 'vect__stop_words': 'english'}\n",
      "0.87045708114994\n",
      "[[338  56   1]\n",
      " [ 19 363  15]\n",
      " [  3  87 309]]\n",
      "              precision    recall  f1-score   support\n",
      "\n",
      "           0       0.94      0.86      0.90       395\n",
      "           1       0.72      0.91      0.80       397\n",
      "           2       0.95      0.77      0.85       399\n",
      "\n",
      "    accuracy                           0.85      1191\n",
      "   macro avg       0.87      0.85      0.85      1191\n",
      "weighted avg       0.87      0.85      0.85      1191\n",
      "\n",
      "Multinomial NB:\n",
      "{'clf__alpha': 0.1, 'tfidf__use_idf': True, 'vect__max_features': 10000, 'vect__stop_words': 'english'}\n",
      "0.9321950837845826\n",
      "[[376   9  10]\n",
      " [  9 353  35]\n",
      " [  4  15 380]]\n",
      "              precision    recall  f1-score   support\n",
      "\n",
      "           0       0.97      0.95      0.96       395\n",
      "           1       0.94      0.89      0.91       397\n",
      "           2       0.89      0.95      0.92       399\n",
      "\n",
      "    accuracy                           0.93      1191\n",
      "   macro avg       0.93      0.93      0.93      1191\n",
      "weighted avg       0.93      0.93      0.93      1191\n",
      "\n"
     ]
    }
   ],
   "source": [
    "from sklearn.metrics import confusion_matrix, classification_report\n",
    "\n",
    "print(\"Random Forest:\")\n",
    "prediction_RF = gs_RF.predict(twenty_test.data)\n",
    "print(gs_RF.best_params_)\n",
    "print(gs_RF.best_score_)\n",
    "print (confusion_matrix(twenty_test.target, prediction_RF))\n",
    "print(classification_report(twenty_test.target, prediction_RF))\n",
    "\n",
    "print(\"Multinomial NB:\")\n",
    "prediction_MNB = gs_MNB.predict(twenty_test.data)\n",
    "print(gs_MNB.best_params_)\n",
    "print(gs_MNB.best_score_)\n",
    "print (confusion_matrix(twenty_test.target, prediction_MNB))\n",
    "print(classification_report(twenty_test.target, prediction_MNB))\n",
    "\n"
   ]
  },
  {
   "cell_type": "markdown",
   "metadata": {},
   "source": [
    "<h>Векторизуем обучающую выборку</h>"
   ]
  },
  {
   "cell_type": "code",
   "execution_count": 1,
   "metadata": {},
   "outputs": [
    {
     "name": "stdout",
     "output_type": "stream",
     "text": [
      "[==================================================] 100.0% 128.1/128.1MB downloaded\n",
      "[ 0.23088    0.28283    0.6318    -0.59411   -0.58599    0.63255\n",
      "  0.24402   -0.14108    0.060815  -0.7898    -0.29102    0.14287\n",
      "  0.72274    0.20428    0.1407     0.98757    0.52533    0.097456\n",
      "  0.8822     0.51221    0.40204    0.21169   -0.013109  -0.71616\n",
      "  0.55387    1.1452    -0.88044   -0.50216   -0.22814    0.023885\n",
      "  0.1072     0.083739   0.55015    0.58479    0.75816    0.45706\n",
      " -0.28001    0.25225    0.68965   -0.60972    0.19578    0.044209\n",
      " -0.31136   -0.68826   -0.22721    0.46185   -0.77162    0.10208\n",
      "  0.55636    0.067417  -0.57207    0.23735    0.4717     0.82765\n",
      " -0.29263   -1.3422    -0.099277   0.28139    0.41604    0.10583\n",
      "  0.62203    0.89496   -0.23446    0.51349    0.99379    1.1846\n",
      " -0.16364    0.20653    0.73854    0.24059   -0.96473    0.13481\n",
      " -0.0072484  0.33016   -0.12365    0.27191   -0.40951    0.021909\n",
      " -0.6069     0.40755    0.19566   -0.41802    0.18636   -0.032652\n",
      " -0.78571   -0.13847    0.044007  -0.084423   0.04911    0.24104\n",
      "  0.45273   -0.18682    0.46182    0.089068  -0.18185   -0.01523\n",
      " -0.7368    -0.14532    0.15104   -0.71493  ]\n"
     ]
    },
    {
     "data": {
      "text/plain": [
       "[('dog', 0.8798074722290039),\n",
       " ('rabbit', 0.7424427270889282),\n",
       " ('cats', 0.732300341129303),\n",
       " ('monkey', 0.7288709878921509),\n",
       " ('pet', 0.719014048576355),\n",
       " ('dogs', 0.7163872718811035),\n",
       " ('mouse', 0.6915250420570374),\n",
       " ('puppy', 0.6800068020820618),\n",
       " ('rat', 0.6641027331352234),\n",
       " ('spider', 0.6501135230064392)]"
      ]
     },
     "execution_count": 1,
     "metadata": {},
     "output_type": "execute_result"
    }
   ],
   "source": [
    "import gensim.downloader\n",
    "\n",
    "glove_model = gensim.downloader.load(\"glove-wiki-gigaword-100\")\n",
    "print(glove_model['cat'])\n",
    "glove_model.most_similar(\"cat\")\n"
   ]
  },
  {
   "cell_type": "code",
   "execution_count": 2,
   "metadata": {},
   "outputs": [],
   "source": [
    "import pandas as pd\n",
    "\n",
    "glove_data=pd.DataFrame()\n"
   ]
  },
  {
   "cell_type": "code",
   "execution_count": null,
   "metadata": {},
   "outputs": [],
   "source": []
  }
 ],
 "metadata": {
  "kernelspec": {
   "display_name": "Python 3",
   "language": "python",
   "name": "python3"
  },
  "language_info": {
   "codemirror_mode": {
    "name": "ipython",
    "version": 3
   },
   "file_extension": ".py",
   "mimetype": "text/x-python",
   "name": "python",
   "nbconvert_exporter": "python",
   "pygments_lexer": "ipython3",
   "version": "3.9.13"
  }
 },
 "nbformat": 4,
 "nbformat_minor": 2
}
